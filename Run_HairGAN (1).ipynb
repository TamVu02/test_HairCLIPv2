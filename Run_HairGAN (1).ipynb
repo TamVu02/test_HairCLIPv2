{
  "nbformat": 4,
  "nbformat_minor": 0,
  "metadata": {
    "colab": {
      "provenance": [],
      "gpuType": "T4"
    },
    "kernelspec": {
      "name": "python3",
      "display_name": "Python 3"
    },
    "language_info": {
      "name": "python"
    },
    "accelerator": "GPU"
  },
  "cells": [
    {
      "cell_type": "code",
      "execution_count": 1,
      "metadata": {
        "id": "vpNkrr1JKNhK",
        "colab": {
          "base_uri": "https://localhost:8080/"
        },
        "outputId": "01014623-8136-46c0-b2e4-107148cd641f"
      },
      "outputs": [
        {
          "output_type": "stream",
          "name": "stdout",
          "text": [
            "Mounted at /content/drive\n"
          ]
        }
      ],
      "source": [
        "from google.colab import drive\n",
        "drive.mount('/content/drive')"
      ]
    },
    {
      "cell_type": "code",
      "source": [
        "!pip install torch==1.11.0+cu102 torchvision==0.12.0+cu102 -f https://download.pytorch.org/whl/torch_stable.html\n",
        "!pip install ftfy regex tqdm matplotlib jupyter ipykernel opencv-python scikit-image kornia==0.6.7 face-alignment==1.3.5"
      ],
      "metadata": {
        "id": "IbatH0VgKZgQ",
        "colab": {
          "base_uri": "https://localhost:8080/"
        },
        "outputId": "74290896-f072-4dc7-c5c7-c199bda7b159"
      },
      "execution_count": 2,
      "outputs": [
        {
          "output_type": "stream",
          "name": "stdout",
          "text": [
            "Looking in links: https://download.pytorch.org/whl/torch_stable.html\n",
            "Collecting torch==1.11.0+cu102\n",
            "  Downloading https://download.pytorch.org/whl/cu102/torch-1.11.0%2Bcu102-cp310-cp310-linux_x86_64.whl (750.6 MB)\n",
            "\u001b[2K     \u001b[90m━━━━━━━━━━━━━━━━━━━━━━━━━━━━━━━━━━━━━━━━\u001b[0m \u001b[32m750.6/750.6 MB\u001b[0m \u001b[31m2.2 MB/s\u001b[0m eta \u001b[36m0:00:00\u001b[0m\n",
            "\u001b[?25hCollecting torchvision==0.12.0+cu102\n",
            "  Downloading https://download.pytorch.org/whl/cu102/torchvision-0.12.0%2Bcu102-cp310-cp310-linux_x86_64.whl (21.0 MB)\n",
            "\u001b[2K     \u001b[90m━━━━━━━━━━━━━━━━━━━━━━━━━━━━━━━━━━━━━━━━\u001b[0m \u001b[32m21.0/21.0 MB\u001b[0m \u001b[31m68.9 MB/s\u001b[0m eta \u001b[36m0:00:00\u001b[0m\n",
            "\u001b[?25hRequirement already satisfied: typing-extensions in /usr/local/lib/python3.10/dist-packages (from torch==1.11.0+cu102) (4.10.0)\n",
            "Requirement already satisfied: numpy in /usr/local/lib/python3.10/dist-packages (from torchvision==0.12.0+cu102) (1.25.2)\n",
            "Requirement already satisfied: requests in /usr/local/lib/python3.10/dist-packages (from torchvision==0.12.0+cu102) (2.31.0)\n",
            "Requirement already satisfied: pillow!=8.3.*,>=5.3.0 in /usr/local/lib/python3.10/dist-packages (from torchvision==0.12.0+cu102) (9.4.0)\n",
            "Requirement already satisfied: charset-normalizer<4,>=2 in /usr/local/lib/python3.10/dist-packages (from requests->torchvision==0.12.0+cu102) (3.3.2)\n",
            "Requirement already satisfied: idna<4,>=2.5 in /usr/local/lib/python3.10/dist-packages (from requests->torchvision==0.12.0+cu102) (3.6)\n",
            "Requirement already satisfied: urllib3<3,>=1.21.1 in /usr/local/lib/python3.10/dist-packages (from requests->torchvision==0.12.0+cu102) (2.0.7)\n",
            "Requirement already satisfied: certifi>=2017.4.17 in /usr/local/lib/python3.10/dist-packages (from requests->torchvision==0.12.0+cu102) (2024.2.2)\n",
            "Installing collected packages: torch, torchvision\n",
            "  Attempting uninstall: torch\n",
            "    Found existing installation: torch 2.2.1+cu121\n",
            "    Uninstalling torch-2.2.1+cu121:\n",
            "      Successfully uninstalled torch-2.2.1+cu121\n",
            "  Attempting uninstall: torchvision\n",
            "    Found existing installation: torchvision 0.17.1+cu121\n",
            "    Uninstalling torchvision-0.17.1+cu121:\n",
            "      Successfully uninstalled torchvision-0.17.1+cu121\n",
            "\u001b[31mERROR: pip's dependency resolver does not currently take into account all the packages that are installed. This behaviour is the source of the following dependency conflicts.\n",
            "torchaudio 2.2.1+cu121 requires torch==2.2.1, but you have torch 1.11.0+cu102 which is incompatible.\n",
            "torchdata 0.7.1 requires torch>=2, but you have torch 1.11.0+cu102 which is incompatible.\n",
            "torchtext 0.17.1 requires torch==2.2.1, but you have torch 1.11.0+cu102 which is incompatible.\u001b[0m\u001b[31m\n",
            "\u001b[0mSuccessfully installed torch-1.11.0+cu102 torchvision-0.12.0+cu102\n",
            "Collecting ftfy\n",
            "  Downloading ftfy-6.2.0-py3-none-any.whl (54 kB)\n",
            "\u001b[2K     \u001b[90m━━━━━━━━━━━━━━━━━━━━━━━━━━━━━━━━━━━━━━━━\u001b[0m \u001b[32m54.4/54.4 kB\u001b[0m \u001b[31m1.7 MB/s\u001b[0m eta \u001b[36m0:00:00\u001b[0m\n",
            "\u001b[?25hRequirement already satisfied: regex in /usr/local/lib/python3.10/dist-packages (2023.12.25)\n",
            "Requirement already satisfied: tqdm in /usr/local/lib/python3.10/dist-packages (4.66.2)\n",
            "Requirement already satisfied: matplotlib in /usr/local/lib/python3.10/dist-packages (3.7.1)\n",
            "Collecting jupyter\n",
            "  Downloading jupyter-1.0.0-py2.py3-none-any.whl (2.7 kB)\n",
            "Requirement already satisfied: ipykernel in /usr/local/lib/python3.10/dist-packages (5.5.6)\n",
            "Requirement already satisfied: opencv-python in /usr/local/lib/python3.10/dist-packages (4.8.0.76)\n",
            "Requirement already satisfied: scikit-image in /usr/local/lib/python3.10/dist-packages (0.19.3)\n",
            "Collecting kornia==0.6.7\n",
            "  Downloading kornia-0.6.7-py2.py3-none-any.whl (565 kB)\n",
            "\u001b[2K     \u001b[90m━━━━━━━━━━━━━━━━━━━━━━━━━━━━━━━━━━━━━━━━\u001b[0m \u001b[32m565.1/565.1 kB\u001b[0m \u001b[31m9.7 MB/s\u001b[0m eta \u001b[36m0:00:00\u001b[0m\n",
            "\u001b[?25hCollecting face-alignment==1.3.5\n",
            "  Downloading face_alignment-1.3.5-py2.py3-none-any.whl (29 kB)\n",
            "Collecting dlib==19.22.1\n",
            "  Downloading dlib-19.22.1.tar.gz (7.4 MB)\n",
            "\u001b[2K     \u001b[90m━━━━━━━━━━━━━━━━━━━━━━━━━━━━━━━━━━━━━━━━\u001b[0m \u001b[32m7.4/7.4 MB\u001b[0m \u001b[31m32.8 MB/s\u001b[0m eta \u001b[36m0:00:00\u001b[0m\n",
            "\u001b[?25h  Preparing metadata (setup.py) ... \u001b[?25l\u001b[?25hdone\n",
            "Requirement already satisfied: torch>=1.8.1 in /usr/local/lib/python3.10/dist-packages (from kornia==0.6.7) (1.11.0+cu102)\n",
            "Requirement already satisfied: packaging in /usr/local/lib/python3.10/dist-packages (from kornia==0.6.7) (24.0)\n",
            "Requirement already satisfied: numpy in /usr/local/lib/python3.10/dist-packages (from face-alignment==1.3.5) (1.25.2)\n",
            "Requirement already satisfied: scipy>=0.17 in /usr/local/lib/python3.10/dist-packages (from face-alignment==1.3.5) (1.11.4)\n",
            "Requirement already satisfied: numba in /usr/local/lib/python3.10/dist-packages (from face-alignment==1.3.5) (0.58.1)\n",
            "Requirement already satisfied: wcwidth<0.3.0,>=0.2.12 in /usr/local/lib/python3.10/dist-packages (from ftfy) (0.2.13)\n",
            "Requirement already satisfied: contourpy>=1.0.1 in /usr/local/lib/python3.10/dist-packages (from matplotlib) (1.2.0)\n",
            "Requirement already satisfied: cycler>=0.10 in /usr/local/lib/python3.10/dist-packages (from matplotlib) (0.12.1)\n",
            "Requirement already satisfied: fonttools>=4.22.0 in /usr/local/lib/python3.10/dist-packages (from matplotlib) (4.50.0)\n",
            "Requirement already satisfied: kiwisolver>=1.0.1 in /usr/local/lib/python3.10/dist-packages (from matplotlib) (1.4.5)\n",
            "Requirement already satisfied: pillow>=6.2.0 in /usr/local/lib/python3.10/dist-packages (from matplotlib) (9.4.0)\n",
            "Requirement already satisfied: pyparsing>=2.3.1 in /usr/local/lib/python3.10/dist-packages (from matplotlib) (3.1.2)\n",
            "Requirement already satisfied: python-dateutil>=2.7 in /usr/local/lib/python3.10/dist-packages (from matplotlib) (2.8.2)\n",
            "Requirement already satisfied: notebook in /usr/local/lib/python3.10/dist-packages (from jupyter) (6.5.5)\n",
            "Collecting qtconsole (from jupyter)\n",
            "  Downloading qtconsole-5.5.1-py3-none-any.whl (123 kB)\n",
            "\u001b[2K     \u001b[90m━━━━━━━━━━━━━━━━━━━━━━━━━━━━━━━━━━━━━━━━\u001b[0m \u001b[32m123.4/123.4 kB\u001b[0m \u001b[31m17.6 MB/s\u001b[0m eta \u001b[36m0:00:00\u001b[0m\n",
            "\u001b[?25hRequirement already satisfied: jupyter-console in /usr/local/lib/python3.10/dist-packages (from jupyter) (6.1.0)\n",
            "Requirement already satisfied: nbconvert in /usr/local/lib/python3.10/dist-packages (from jupyter) (6.5.4)\n",
            "Requirement already satisfied: ipywidgets in /usr/local/lib/python3.10/dist-packages (from jupyter) (7.7.1)\n",
            "Requirement already satisfied: ipython-genutils in /usr/local/lib/python3.10/dist-packages (from ipykernel) (0.2.0)\n",
            "Requirement already satisfied: ipython>=5.0.0 in /usr/local/lib/python3.10/dist-packages (from ipykernel) (7.34.0)\n",
            "Requirement already satisfied: traitlets>=4.1.0 in /usr/local/lib/python3.10/dist-packages (from ipykernel) (5.7.1)\n",
            "Requirement already satisfied: jupyter-client in /usr/local/lib/python3.10/dist-packages (from ipykernel) (6.1.12)\n",
            "Requirement already satisfied: tornado>=4.2 in /usr/local/lib/python3.10/dist-packages (from ipykernel) (6.3.3)\n",
            "Requirement already satisfied: networkx>=2.2 in /usr/local/lib/python3.10/dist-packages (from scikit-image) (3.2.1)\n",
            "Requirement already satisfied: imageio>=2.4.1 in /usr/local/lib/python3.10/dist-packages (from scikit-image) (2.31.6)\n",
            "Requirement already satisfied: tifffile>=2019.7.26 in /usr/local/lib/python3.10/dist-packages (from scikit-image) (2024.2.12)\n",
            "Requirement already satisfied: PyWavelets>=1.1.1 in /usr/local/lib/python3.10/dist-packages (from scikit-image) (1.5.0)\n",
            "Requirement already satisfied: setuptools>=18.5 in /usr/local/lib/python3.10/dist-packages (from ipython>=5.0.0->ipykernel) (67.7.2)\n",
            "Collecting jedi>=0.16 (from ipython>=5.0.0->ipykernel)\n",
            "  Downloading jedi-0.19.1-py2.py3-none-any.whl (1.6 MB)\n",
            "\u001b[2K     \u001b[90m━━━━━━━━━━━━━━━━━━━━━━━━━━━━━━━━━━━━━━━━\u001b[0m \u001b[32m1.6/1.6 MB\u001b[0m \u001b[31m63.6 MB/s\u001b[0m eta \u001b[36m0:00:00\u001b[0m\n",
            "\u001b[?25hRequirement already satisfied: decorator in /usr/local/lib/python3.10/dist-packages (from ipython>=5.0.0->ipykernel) (4.4.2)\n",
            "Requirement already satisfied: pickleshare in /usr/local/lib/python3.10/dist-packages (from ipython>=5.0.0->ipykernel) (0.7.5)\n",
            "Requirement already satisfied: prompt-toolkit!=3.0.0,!=3.0.1,<3.1.0,>=2.0.0 in /usr/local/lib/python3.10/dist-packages (from ipython>=5.0.0->ipykernel) (3.0.43)\n",
            "Requirement already satisfied: pygments in /usr/local/lib/python3.10/dist-packages (from ipython>=5.0.0->ipykernel) (2.16.1)\n",
            "Requirement already satisfied: backcall in /usr/local/lib/python3.10/dist-packages (from ipython>=5.0.0->ipykernel) (0.2.0)\n",
            "Requirement already satisfied: matplotlib-inline in /usr/local/lib/python3.10/dist-packages (from ipython>=5.0.0->ipykernel) (0.1.6)\n",
            "Requirement already satisfied: pexpect>4.3 in /usr/local/lib/python3.10/dist-packages (from ipython>=5.0.0->ipykernel) (4.9.0)\n",
            "Requirement already satisfied: six>=1.5 in /usr/local/lib/python3.10/dist-packages (from python-dateutil>=2.7->matplotlib) (1.16.0)\n",
            "Requirement already satisfied: typing-extensions in /usr/local/lib/python3.10/dist-packages (from torch>=1.8.1->kornia==0.6.7) (4.10.0)\n",
            "Requirement already satisfied: widgetsnbextension~=3.6.0 in /usr/local/lib/python3.10/dist-packages (from ipywidgets->jupyter) (3.6.6)\n",
            "Requirement already satisfied: jupyterlab-widgets>=1.0.0 in /usr/local/lib/python3.10/dist-packages (from ipywidgets->jupyter) (3.0.10)\n",
            "Requirement already satisfied: jupyter-core>=4.6.0 in /usr/local/lib/python3.10/dist-packages (from jupyter-client->ipykernel) (5.7.2)\n",
            "Requirement already satisfied: pyzmq>=13 in /usr/local/lib/python3.10/dist-packages (from jupyter-client->ipykernel) (23.2.1)\n",
            "Requirement already satisfied: lxml in /usr/local/lib/python3.10/dist-packages (from nbconvert->jupyter) (4.9.4)\n",
            "Requirement already satisfied: beautifulsoup4 in /usr/local/lib/python3.10/dist-packages (from nbconvert->jupyter) (4.12.3)\n",
            "Requirement already satisfied: bleach in /usr/local/lib/python3.10/dist-packages (from nbconvert->jupyter) (6.1.0)\n",
            "Requirement already satisfied: defusedxml in /usr/local/lib/python3.10/dist-packages (from nbconvert->jupyter) (0.7.1)\n",
            "Requirement already satisfied: entrypoints>=0.2.2 in /usr/local/lib/python3.10/dist-packages (from nbconvert->jupyter) (0.4)\n",
            "Requirement already satisfied: jinja2>=3.0 in /usr/local/lib/python3.10/dist-packages (from nbconvert->jupyter) (3.1.3)\n",
            "Requirement already satisfied: jupyterlab-pygments in /usr/local/lib/python3.10/dist-packages (from nbconvert->jupyter) (0.3.0)\n",
            "Requirement already satisfied: MarkupSafe>=2.0 in /usr/local/lib/python3.10/dist-packages (from nbconvert->jupyter) (2.1.5)\n",
            "Requirement already satisfied: mistune<2,>=0.8.1 in /usr/local/lib/python3.10/dist-packages (from nbconvert->jupyter) (0.8.4)\n",
            "Requirement already satisfied: nbclient>=0.5.0 in /usr/local/lib/python3.10/dist-packages (from nbconvert->jupyter) (0.10.0)\n",
            "Requirement already satisfied: nbformat>=5.1 in /usr/local/lib/python3.10/dist-packages (from nbconvert->jupyter) (5.10.3)\n",
            "Requirement already satisfied: pandocfilters>=1.4.1 in /usr/local/lib/python3.10/dist-packages (from nbconvert->jupyter) (1.5.1)\n",
            "Requirement already satisfied: tinycss2 in /usr/local/lib/python3.10/dist-packages (from nbconvert->jupyter) (1.2.1)\n",
            "Requirement already satisfied: argon2-cffi in /usr/local/lib/python3.10/dist-packages (from notebook->jupyter) (23.1.0)\n",
            "Requirement already satisfied: nest-asyncio>=1.5 in /usr/local/lib/python3.10/dist-packages (from notebook->jupyter) (1.6.0)\n",
            "Requirement already satisfied: Send2Trash>=1.8.0 in /usr/local/lib/python3.10/dist-packages (from notebook->jupyter) (1.8.2)\n",
            "Requirement already satisfied: terminado>=0.8.3 in /usr/local/lib/python3.10/dist-packages (from notebook->jupyter) (0.18.1)\n",
            "Requirement already satisfied: prometheus-client in /usr/local/lib/python3.10/dist-packages (from notebook->jupyter) (0.20.0)\n",
            "Requirement already satisfied: nbclassic>=0.4.7 in /usr/local/lib/python3.10/dist-packages (from notebook->jupyter) (1.0.0)\n",
            "Requirement already satisfied: llvmlite<0.42,>=0.41.0dev0 in /usr/local/lib/python3.10/dist-packages (from numba->face-alignment==1.3.5) (0.41.1)\n",
            "Collecting qtpy>=2.4.0 (from qtconsole->jupyter)\n",
            "  Downloading QtPy-2.4.1-py3-none-any.whl (93 kB)\n",
            "\u001b[2K     \u001b[90m━━━━━━━━━━━━━━━━━━━━━━━━━━━━━━━━━━━━━━━━\u001b[0m \u001b[32m93.5/93.5 kB\u001b[0m \u001b[31m13.3 MB/s\u001b[0m eta \u001b[36m0:00:00\u001b[0m\n",
            "\u001b[?25hRequirement already satisfied: parso<0.9.0,>=0.8.3 in /usr/local/lib/python3.10/dist-packages (from jedi>=0.16->ipython>=5.0.0->ipykernel) (0.8.3)\n",
            "Requirement already satisfied: platformdirs>=2.5 in /usr/local/lib/python3.10/dist-packages (from jupyter-core>=4.6.0->jupyter-client->ipykernel) (4.2.0)\n",
            "Requirement already satisfied: jupyter-server>=1.8 in /usr/local/lib/python3.10/dist-packages (from nbclassic>=0.4.7->notebook->jupyter) (1.24.0)\n",
            "Requirement already satisfied: notebook-shim>=0.2.3 in /usr/local/lib/python3.10/dist-packages (from nbclassic>=0.4.7->notebook->jupyter) (0.2.4)\n",
            "Requirement already satisfied: fastjsonschema in /usr/local/lib/python3.10/dist-packages (from nbformat>=5.1->nbconvert->jupyter) (2.19.1)\n",
            "Requirement already satisfied: jsonschema>=2.6 in /usr/local/lib/python3.10/dist-packages (from nbformat>=5.1->nbconvert->jupyter) (4.19.2)\n",
            "Requirement already satisfied: ptyprocess>=0.5 in /usr/local/lib/python3.10/dist-packages (from pexpect>4.3->ipython>=5.0.0->ipykernel) (0.7.0)\n",
            "Requirement already satisfied: argon2-cffi-bindings in /usr/local/lib/python3.10/dist-packages (from argon2-cffi->notebook->jupyter) (21.2.0)\n",
            "Requirement already satisfied: soupsieve>1.2 in /usr/local/lib/python3.10/dist-packages (from beautifulsoup4->nbconvert->jupyter) (2.5)\n",
            "Requirement already satisfied: webencodings in /usr/local/lib/python3.10/dist-packages (from bleach->nbconvert->jupyter) (0.5.1)\n",
            "Requirement already satisfied: attrs>=22.2.0 in /usr/local/lib/python3.10/dist-packages (from jsonschema>=2.6->nbformat>=5.1->nbconvert->jupyter) (23.2.0)\n",
            "Requirement already satisfied: jsonschema-specifications>=2023.03.6 in /usr/local/lib/python3.10/dist-packages (from jsonschema>=2.6->nbformat>=5.1->nbconvert->jupyter) (2023.12.1)\n",
            "Requirement already satisfied: referencing>=0.28.4 in /usr/local/lib/python3.10/dist-packages (from jsonschema>=2.6->nbformat>=5.1->nbconvert->jupyter) (0.34.0)\n",
            "Requirement already satisfied: rpds-py>=0.7.1 in /usr/local/lib/python3.10/dist-packages (from jsonschema>=2.6->nbformat>=5.1->nbconvert->jupyter) (0.18.0)\n",
            "Requirement already satisfied: anyio<4,>=3.1.0 in /usr/local/lib/python3.10/dist-packages (from jupyter-server>=1.8->nbclassic>=0.4.7->notebook->jupyter) (3.7.1)\n",
            "Requirement already satisfied: websocket-client in /usr/local/lib/python3.10/dist-packages (from jupyter-server>=1.8->nbclassic>=0.4.7->notebook->jupyter) (1.7.0)\n",
            "Requirement already satisfied: cffi>=1.0.1 in /usr/local/lib/python3.10/dist-packages (from argon2-cffi-bindings->argon2-cffi->notebook->jupyter) (1.16.0)\n",
            "Requirement already satisfied: idna>=2.8 in /usr/local/lib/python3.10/dist-packages (from anyio<4,>=3.1.0->jupyter-server>=1.8->nbclassic>=0.4.7->notebook->jupyter) (3.6)\n",
            "Requirement already satisfied: sniffio>=1.1 in /usr/local/lib/python3.10/dist-packages (from anyio<4,>=3.1.0->jupyter-server>=1.8->nbclassic>=0.4.7->notebook->jupyter) (1.3.1)\n",
            "Requirement already satisfied: exceptiongroup in /usr/local/lib/python3.10/dist-packages (from anyio<4,>=3.1.0->jupyter-server>=1.8->nbclassic>=0.4.7->notebook->jupyter) (1.2.0)\n",
            "Requirement already satisfied: pycparser in /usr/local/lib/python3.10/dist-packages (from cffi>=1.0.1->argon2-cffi-bindings->argon2-cffi->notebook->jupyter) (2.21)\n",
            "Building wheels for collected packages: dlib\n",
            "  Building wheel for dlib (setup.py) ... \u001b[?25l\u001b[?25hdone\n",
            "  Created wheel for dlib: filename=dlib-19.22.1-cp310-cp310-linux_x86_64.whl size=4860862 sha256=97b72cfd3989e8ebfe77d58c01255804b21d582edc5eceb999a1f4b4729b3395\n",
            "  Stored in directory: /root/.cache/pip/wheels/4b/74/df/10439519168a53b3b6e5fef3a8dc2c83f160b06016a0f6a5ac\n",
            "Successfully built dlib\n",
            "Installing collected packages: dlib, qtpy, jedi, ftfy, kornia, face-alignment, qtconsole, jupyter\n",
            "  Attempting uninstall: dlib\n",
            "    Found existing installation: dlib 19.24.2\n",
            "    Uninstalling dlib-19.24.2:\n",
            "      Successfully uninstalled dlib-19.24.2\n",
            "Successfully installed dlib-19.22.1 face-alignment-1.3.5 ftfy-6.2.0 jedi-0.19.1 jupyter-1.0.0 kornia-0.6.7 qtconsole-5.5.1 qtpy-2.4.1\n",
            "Collecting git+https://github.com/openai/CLIP.git\n",
            "  Cloning https://github.com/openai/CLIP.git to /tmp/pip-req-build-0ylfdo4r\n",
            "  Running command git clone --filter=blob:none --quiet https://github.com/openai/CLIP.git /tmp/pip-req-build-0ylfdo4r\n",
            "  Resolved https://github.com/openai/CLIP.git to commit a1d071733d7111c9c014f024669f959182114e33\n",
            "  Preparing metadata (setup.py) ... \u001b[?25l\u001b[?25hdone\n",
            "Requirement already satisfied: ftfy in /usr/local/lib/python3.10/dist-packages (from clip==1.0) (6.2.0)\n",
            "Requirement already satisfied: regex in /usr/local/lib/python3.10/dist-packages (from clip==1.0) (2023.12.25)\n",
            "Requirement already satisfied: tqdm in /usr/local/lib/python3.10/dist-packages (from clip==1.0) (4.66.2)\n",
            "Requirement already satisfied: torch in /usr/local/lib/python3.10/dist-packages (from clip==1.0) (1.11.0+cu102)\n",
            "Requirement already satisfied: torchvision in /usr/local/lib/python3.10/dist-packages (from clip==1.0) (0.12.0+cu102)\n",
            "Requirement already satisfied: wcwidth<0.3.0,>=0.2.12 in /usr/local/lib/python3.10/dist-packages (from ftfy->clip==1.0) (0.2.13)\n",
            "Requirement already satisfied: typing-extensions in /usr/local/lib/python3.10/dist-packages (from torch->clip==1.0) (4.10.0)\n",
            "Requirement already satisfied: numpy in /usr/local/lib/python3.10/dist-packages (from torchvision->clip==1.0) (1.25.2)\n",
            "Requirement already satisfied: requests in /usr/local/lib/python3.10/dist-packages (from torchvision->clip==1.0) (2.31.0)\n",
            "Requirement already satisfied: pillow!=8.3.*,>=5.3.0 in /usr/local/lib/python3.10/dist-packages (from torchvision->clip==1.0) (9.4.0)\n",
            "Requirement already satisfied: charset-normalizer<4,>=2 in /usr/local/lib/python3.10/dist-packages (from requests->torchvision->clip==1.0) (3.3.2)\n",
            "Requirement already satisfied: idna<4,>=2.5 in /usr/local/lib/python3.10/dist-packages (from requests->torchvision->clip==1.0) (3.6)\n",
            "Requirement already satisfied: urllib3<3,>=1.21.1 in /usr/local/lib/python3.10/dist-packages (from requests->torchvision->clip==1.0) (2.0.7)\n",
            "Requirement already satisfied: certifi>=2017.4.17 in /usr/local/lib/python3.10/dist-packages (from requests->torchvision->clip==1.0) (2024.2.2)\n",
            "Building wheels for collected packages: clip\n",
            "  Building wheel for clip (setup.py) ... \u001b[?25l\u001b[?25hdone\n",
            "  Created wheel for clip: filename=clip-1.0-py3-none-any.whl size=1369499 sha256=c4620a86b97ba35926fc7195007136de692c4f382faa9615344413e9ace24d06\n",
            "  Stored in directory: /tmp/pip-ephem-wheel-cache-iyztibxm/wheels/da/2b/4c/d6691fa9597aac8bb85d2ac13b112deb897d5b50f5ad9a37e4\n",
            "Successfully built clip\n",
            "Installing collected packages: clip\n",
            "Successfully installed clip-1.0\n"
          ]
        }
      ]
    },
    {
      "cell_type": "code",
      "source": [
        "!pip install Ninja"
      ],
      "metadata": {
        "id": "pSrHKJl6KbPG",
        "colab": {
          "base_uri": "https://localhost:8080/"
        },
        "outputId": "7045972b-c143-4ee2-b399-b48ae7800b21"
      },
      "execution_count": 3,
      "outputs": [
        {
          "output_type": "stream",
          "name": "stdout",
          "text": [
            "Collecting Ninja\n",
            "  Downloading ninja-1.11.1.1-py2.py3-none-manylinux1_x86_64.manylinux_2_5_x86_64.whl (307 kB)\n",
            "\u001b[?25l     \u001b[90m━━━━━━━━━━━━━━━━━━━━━━━━━━━━━━━━━━━━━━━━\u001b[0m \u001b[32m0.0/307.2 kB\u001b[0m \u001b[31m?\u001b[0m eta \u001b[36m-:--:--\u001b[0m\r\u001b[2K     \u001b[91m━━━━━━━━━━━━━━━━━━━━━━━━━━━━━━━━━━━━━━\u001b[0m\u001b[91m╸\u001b[0m\u001b[90m━\u001b[0m \u001b[32m297.0/307.2 kB\u001b[0m \u001b[31m9.9 MB/s\u001b[0m eta \u001b[36m0:00:01\u001b[0m\r\u001b[2K     \u001b[90m━━━━━━━━━━━━━━━━━━━━━━━━━━━━━━━━━━━━━━━━\u001b[0m \u001b[32m307.2/307.2 kB\u001b[0m \u001b[31m8.0 MB/s\u001b[0m eta \u001b[36m0:00:00\u001b[0m\n",
            "\u001b[?25hInstalling collected packages: Ninja\n",
            "Successfully installed Ninja-1.11.1.1\n"
          ]
        }
      ]
    },
    {
      "cell_type": "code",
      "source": [
        "!pip install pyrallis"
      ],
      "metadata": {
        "id": "3b64JRpJKv1-",
        "colab": {
          "base_uri": "https://localhost:8080/"
        },
        "outputId": "2b18ecfd-ec3c-485c-e936-001b5d177277"
      },
      "execution_count": 4,
      "outputs": [
        {
          "output_type": "stream",
          "name": "stdout",
          "text": [
            "Collecting pyrallis\n",
            "  Downloading pyrallis-0.3.1-py3-none-any.whl (33 kB)\n",
            "Collecting typing-inspect (from pyrallis)\n",
            "  Downloading typing_inspect-0.9.0-py3-none-any.whl (8.8 kB)\n",
            "Requirement already satisfied: pyyaml in /usr/local/lib/python3.10/dist-packages (from pyrallis) (6.0.1)\n",
            "Collecting mypy-extensions>=0.3.0 (from typing-inspect->pyrallis)\n",
            "  Downloading mypy_extensions-1.0.0-py3-none-any.whl (4.7 kB)\n",
            "Requirement already satisfied: typing-extensions>=3.7.4 in /usr/local/lib/python3.10/dist-packages (from typing-inspect->pyrallis) (4.10.0)\n",
            "Installing collected packages: mypy-extensions, typing-inspect, pyrallis\n",
            "Successfully installed mypy-extensions-1.0.0 pyrallis-0.3.1 typing-inspect-0.9.0\n"
          ]
        }
      ]
    },
    {
      "cell_type": "code",
      "source": [
        "%cd /content/"
      ],
      "metadata": {
        "colab": {
          "base_uri": "https://localhost:8080/"
        },
        "id": "wTTv8HweUNhD",
        "outputId": "3de05792-b2ea-4ccf-8619-c5fb67e0b827"
      },
      "execution_count": 16,
      "outputs": [
        {
          "output_type": "stream",
          "name": "stdout",
          "text": [
            "/content\n"
          ]
        }
      ]
    },
    {
      "cell_type": "code",
      "source": [
        "!rm -r /content/test_HairCLIPv2"
      ],
      "metadata": {
        "id": "fI0Qo7AHUX_3"
      },
      "execution_count": 17,
      "outputs": []
    },
    {
      "cell_type": "code",
      "source": [
        "!git clone https://github.com/TamVu02/test_HairCLIPv2 -b sg3_encoder"
      ],
      "metadata": {
        "colab": {
          "base_uri": "https://localhost:8080/"
        },
        "id": "SYGV0nz3Ubpb",
        "outputId": "f8e8289c-46e3-4fd0-db13-6dd8f31ddca7"
      },
      "execution_count": 18,
      "outputs": [
        {
          "output_type": "stream",
          "name": "stdout",
          "text": [
            "Cloning into 'test_HairCLIPv2'...\n",
            "remote: Enumerating objects: 722, done.\u001b[K\n",
            "remote: Counting objects: 100% (68/68), done.\u001b[K\n",
            "remote: Compressing objects: 100% (66/66), done.\u001b[K\n",
            "remote: Total 722 (delta 38), reused 2 (delta 2), pack-reused 654\u001b[K\n",
            "Receiving objects: 100% (722/722), 51.24 MiB | 27.27 MiB/s, done.\n",
            "Resolving deltas: 100% (366/366), done.\n"
          ]
        }
      ]
    },
    {
      "cell_type": "code",
      "source": [
        "%cd /content/test_HairCLIPv2"
      ],
      "metadata": {
        "colab": {
          "base_uri": "https://localhost:8080/"
        },
        "id": "V3lXchYpUedR",
        "outputId": "6979c3df-a8f1-4961-86e4-0c81e04b8b97"
      },
      "execution_count": 19,
      "outputs": [
        {
          "output_type": "stream",
          "name": "stdout",
          "text": [
            "/content/test_HairCLIPv2\n"
          ]
        }
      ]
    },
    {
      "cell_type": "code",
      "source": [
        "!python main_sg3.py --img_list 07626 07651 07655 07686 07717 07730 07738 07751 07757 --save_output_dir /content/drive/MyDrive/HairGAN/Final_HairGAN/output_img --output_result /content/drive/MyDrive/HairGAN/Final_HairGAN/output_img/result_metric.csv"
      ],
      "metadata": {
        "colab": {
          "base_uri": "https://localhost:8080/"
        },
        "id": "v0sDxR-eUgcF",
        "outputId": "787551ec-84c9-4902-e7ae-b7a2240e72cd"
      },
      "execution_count": 15,
      "outputs": [
        {
          "output_type": "stream",
          "name": "stdout",
          "text": [
            "Namespace(save_output_dir='/content/drive/MyDrive/HairGAN/Final_HairGAN/output_img', img_list=['07626', '07651', '07655', '07686', '07717', '07730', '07738', '07751', '07757'], output_result='/content/drive/MyDrive/HairGAN/Final_HairGAN/output_img/result_metric.csv')\n",
            "Loading ReStyle e4e from checkpoint: /content/drive/MyDrive/HairGAN/Final_HairGAN/pretrained_models/restyle_e4e_ffhq.pt\n",
            "Loading StyleGAN3 generator from path: None\n",
            "Done!\n",
            "Model successfully loaded!\n",
            "Updating SG3 generator with generator from path: /content/drive/MyDrive/HairGAN/Final_HairGAN/pretrained_models/sg3-r-ffhq-1024.pt\n",
            "Loading StyleGAN3 generator from path: /content/drive/MyDrive/HairGAN/Final_HairGAN/pretrained_models/sg3-r-ffhq-1024.pt\n",
            "Done!\n",
            "Setting up Perceptual loss...\n",
            "Loading model from: /content/test_HairCLIPv2/criteria/lpips/weights/v0.1/vgg.pth\n",
            "...[net-lin [vgg]] initialized\n",
            "...Done\n",
            "Setting up Perceptual loss...\n",
            "Loading model from: /content/test_HairCLIPv2/criteria/lpips/weights/v0.1/vgg.pth\n",
            "...[net-lin [vgg]] initialized\n",
            "...Done\n",
            "====================================================================================================\n",
            "Performing edit on image 07626.png\n",
            "Setting up PyTorch plugin \"filtered_lrelu_plugin\"... Done.\n",
            "Performing edit for Bald...\n",
            "Done!\n",
            "==Performing edit source image on target image 07651.png\n",
            "ref_loss: 0.1753;: 100% 200/200 [02:32<00:00,  1.31it/s]\n",
            "/content/test_HairCLIPv2/main_sg3.py:31: FutureWarning: `multichannel` is a deprecated argument name for `structural_similarity`. It will be removed in version 1.0. Please use `channel_axis` instead.\n",
            "  ssim_score = ssim(src_np, ref_np, multichannel = True)\n",
            "LPIPS score: 0.6167205572128296 \t SSIM score: 0.24824126064777374\n",
            "Done saving output 07626_07651.png to /content/drive/MyDrive/HairGAN/Final_HairGAN/output_img\n",
            "==Performing edit source image on target image 07655.png\n",
            "ref_loss: 0.8262;: 100% 200/200 [02:14<00:00,  1.49it/s]\n",
            "LPIPS score: 0.6001696586608887 \t SSIM score: 0.26246318221092224\n",
            "Done saving output 07626_07655.png to /content/drive/MyDrive/HairGAN/Final_HairGAN/output_img\n",
            "==Performing edit source image on target image 07686.png\n",
            "ref_loss: 0.7342;: 100% 200/200 [02:13<00:00,  1.49it/s]\n",
            "LPIPS score: 0.635316789150238 \t SSIM score: 0.19350342452526093\n",
            "Done saving output 07626_07686.png to /content/drive/MyDrive/HairGAN/Final_HairGAN/output_img\n",
            "====================================================================================================\n",
            "Performing edit on image 07651.png\n",
            "Performing edit for Bald...\n",
            "Done!\n",
            "==Performing edit source image on target image 07730.png\n",
            "ref_loss: 0.0461;: 100% 200/200 [02:13<00:00,  1.50it/s]\n",
            "LPIPS score: 0.5546053647994995 \t SSIM score: 0.43275710940361023\n",
            "Done saving output 07651_07730.png to /content/drive/MyDrive/HairGAN/Final_HairGAN/output_img\n",
            "==Performing edit source image on target image 07717.png\n",
            "ref_loss: 0.0543;: 100% 200/200 [02:13<00:00,  1.50it/s]\n",
            "LPIPS score: 0.5679665207862854 \t SSIM score: 0.4048330783843994\n",
            "Done saving output 07651_07717.png to /content/drive/MyDrive/HairGAN/Final_HairGAN/output_img\n",
            "==Performing edit source image on target image 07751.png\n",
            "ref_loss: 0.0874;: 100% 200/200 [02:12<00:00,  1.50it/s]\n",
            "LPIPS score: 0.5612504482269287 \t SSIM score: 0.4077276289463043\n",
            "Done saving output 07651_07751.png to /content/drive/MyDrive/HairGAN/Final_HairGAN/output_img\n",
            "====================================================================================================\n",
            "Performing edit on image 07655.png\n",
            "Performing edit for Bald...\n",
            "Done!\n",
            "==Performing edit source image on target image 07757.png\n",
            "ref_loss: 0.0761;: 100% 200/200 [02:13<00:00,  1.50it/s]\n",
            "LPIPS score: 0.5949265360832214 \t SSIM score: 0.3428134024143219\n",
            "Done saving output 07655_07757.png to /content/drive/MyDrive/HairGAN/Final_HairGAN/output_img\n",
            "==Performing edit source image on target image 07717.png\n",
            "ref_loss: 0.0599;: 100% 200/200 [02:13<00:00,  1.50it/s]\n",
            "LPIPS score: 0.5624260902404785 \t SSIM score: 0.38863933086395264\n",
            "Done saving output 07655_07717.png to /content/drive/MyDrive/HairGAN/Final_HairGAN/output_img\n",
            "==Performing edit source image on target image 07751.png\n",
            "ref_loss: 1.3629;: 100% 200/200 [02:13<00:00,  1.50it/s]\n",
            "LPIPS score: 0.6090774536132812 \t SSIM score: 0.3016495108604431\n",
            "Done saving output 07655_07751.png to /content/drive/MyDrive/HairGAN/Final_HairGAN/output_img\n",
            "====================================================================================================\n",
            "Performing edit on image 07686.png\n",
            "Performing edit for Bald...\n",
            "Done!\n",
            "==Performing edit source image on target image 07717.png\n",
            "ref_loss: 0.1028;: 100% 200/200 [02:13<00:00,  1.50it/s]\n",
            "LPIPS score: 0.6448450684547424 \t SSIM score: 0.3298218548297882\n",
            "Done saving output 07686_07717.png to /content/drive/MyDrive/HairGAN/Final_HairGAN/output_img\n",
            "==Performing edit source image on target image 07730.png\n",
            "ref_loss: 0.0925;: 100% 200/200 [02:13<00:00,  1.50it/s]\n",
            "LPIPS score: 0.6333780288696289 \t SSIM score: 0.34568485617637634\n",
            "Done saving output 07686_07730.png to /content/drive/MyDrive/HairGAN/Final_HairGAN/output_img\n",
            "==Performing edit source image on target image 07651.png\n",
            "ref_loss: 0.1218;: 100% 200/200 [02:13<00:00,  1.50it/s]\n",
            "LPIPS score: 0.5973767638206482 \t SSIM score: 0.44338950514793396\n",
            "Done saving output 07686_07651.png to /content/drive/MyDrive/HairGAN/Final_HairGAN/output_img\n",
            "====================================================================================================\n",
            "Performing edit on image 07717.png\n",
            "Performing edit for Bald...\n",
            "Done!\n",
            "==Performing edit source image on target image 07686.png\n",
            "ref_loss: 0.0677;: 100% 200/200 [02:13<00:00,  1.50it/s]\n",
            "LPIPS score: 0.5776851773262024 \t SSIM score: 0.2111978679895401\n",
            "Done saving output 07717_07686.png to /content/drive/MyDrive/HairGAN/Final_HairGAN/output_img\n",
            "==Performing edit source image on target image 07651.png\n",
            "ref_loss: 0.0816;: 100% 200/200 [02:13<00:00,  1.50it/s]\n",
            "LPIPS score: 0.5663062334060669 \t SSIM score: 0.36724400520324707\n",
            "Done saving output 07717_07651.png to /content/drive/MyDrive/HairGAN/Final_HairGAN/output_img\n",
            "==Performing edit source image on target image 07751.png\n",
            "Traceback (most recent call last):\n",
            "  File \"/content/test_HairCLIPv2/main_sg3.py\", line 124, in <module>\n",
            "    main(args)\n",
            "  File \"/content/test_HairCLIPv2/main_sg3.py\", line 96, in main\n",
            "    latent_global, visual_global_list=ref_proxy(target_name+'.png', src_image=src_image, m_style=6)\n",
            "  File \"/usr/local/lib/python3.10/dist-packages/torch/nn/modules/module.py\", line 1110, in _call_impl\n",
            "    return forward_call(*input, **kwargs)\n",
            "  File \"/content/test_HairCLIPv2/scripts/ref_proxy.py\", line 67, in forward\n",
            "    ref_img, latent_W_optimized = self.load_hairstyle_ref(hairstyle_ref_name)\n",
            "  File \"/content/test_HairCLIPv2/scripts/ref_proxy.py\", line 49, in load_hairstyle_ref\n",
            "    inverted_latent_w_plus, inverted_latent_F = self.re4e.invert_image_in_FS(image_path=hairstyle_img_path)\n",
            "  File \"/content/test_HairCLIPv2/scripts/Embedding_sg3.py\", line 109, in invert_image_in_FS\n",
            "    'ref_im_H': ref_im_H.cuda(),\n",
            "KeyboardInterrupt\n",
            "^C\n"
          ]
        }
      ]
    },
    {
      "cell_type": "code",
      "source": [],
      "metadata": {
        "id": "lJ4tpT6uWUpU"
      },
      "execution_count": null,
      "outputs": []
    }
  ]
}