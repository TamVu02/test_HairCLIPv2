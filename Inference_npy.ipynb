{
  "cells": [
    {
      "cell_type": "code",
      "execution_count": null,
      "metadata": {
        "id": "t2OHLyvSv5zZ"
      },
      "outputs": [],
      "source": [
        "from google.colab import drive\n",
        "drive.mount('/content/gdrive')"
      ]
    },
    {
      "cell_type": "code",
      "execution_count": null,
      "metadata": {
        "id": "2f_J9HRKwXbP"
      },
      "outputs": [],
      "source": [
        "#@title Clone Repo and Install Ninja { display-mode: \"form\" }\n",
        "import os\n",
        "from pathlib import Path\n",
        "\n",
        "os.chdir('/content')\n",
        "CODE_DIR = 'stylegan3-editing'\n",
        "\n",
        "## clone repo\n",
        "!git clone https://github.com/yuval-alaluf/stylegan3-editing $CODE_DIR\n",
        "\n",
        "## install ninja\n",
        "!wget https://github.com/ninja-build/ninja/releases/download/v1.8.2/ninja-linux.zip\n",
        "!sudo unzip ninja-linux.zip -d /usr/local/bin/\n",
        "!sudo update-alternatives --install /usr/bin/ninja ninja /usr/local/bin/ninja 1 --force\n",
        "\n",
        "## install some packages\n",
        "!pip install pyrallis\n",
        "\n",
        "os.chdir(f'./{CODE_DIR}')"
      ]
    },
    {
      "cell_type": "code",
      "execution_count": null,
      "metadata": {
        "id": "kIwCRCobwan-"
      },
      "outputs": [],
      "source": [
        "!python inversion/scripts/inference_iterative.py \\\n",
        "--output_path experiments/restyle_e4e_ffhq_encode/inference \\\n",
        "--checkpoint_path /content/drive/MyDrive/HairGAN/tam_proposed/restyle_e4e_ffhq.pt\\\n",
        "--data_path /content/drive/MyDrive/HairGAN/Final_HairGAN/Asian_Dataset \\\n",
        "--test_batch_size 4 \\\n",
        "--test_workers 1 \\\n",
        "--n_iters_per_batch 3"
      ]
    },
    {
      "cell_type": "code",
      "execution_count": null,
      "metadata": {
        "id": "V--69PXewhRG"
      },
      "outputs": [],
      "source": [
        "import shutil\n",
        "import os\n",
        "from google.colab import files\n",
        "\n",
        "# Define the folder path to be saved\n",
        "folder_path = '/content/stylegan3-editing/experiments/restyle_pSp_ffhq_encode/inference/inference_results/0'\n",
        "\n",
        "# Define the output zip file path\n",
        "output_zip_path = '/content/img_result_0.zip'\n",
        "\n",
        "# Create a zip file containing the folder contents\n",
        "shutil.make_archive(output_zip_path[:-4], 'zip', folder_path)\n",
        "\n",
        "# Download the zip file to local machine\n",
        "files.download(output_zip_path)"
      ]
    }
  ],
  "metadata": {
    "accelerator": "GPU",
    "colab": {
      "gpuType": "T4",
      "provenance": []
    },
    "kernelspec": {
      "display_name": "Python 3",
      "name": "python3"
    },
    "language_info": {
      "name": "python"
    }
  },
  "nbformat": 4,
  "nbformat_minor": 0
}
